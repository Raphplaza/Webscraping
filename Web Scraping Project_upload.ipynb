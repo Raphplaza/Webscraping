{
 "cells": [
  {
   "cell_type": "code",
   "execution_count": null,
   "metadata": {},
   "outputs": [],
   "source": [
    "# Goal:\n",
    "# Get the title of every book with 2 star rating from \n",
    "# from all pages at http://books.toscrape.com\n",
    "\n",
    "\n",
    "import requests\n",
    "import bs4\n",
    "\n",
    "\n",
    "star2_nr = 0\n",
    "star2_names = []\n",
    "base_url = 'http://books.toscrape.com/catalogue/page-{}.html'\n",
    "\n",
    "for i in range(1,51):\n",
    "    url=base_url.format(i)\n",
    "    req = requests.get(url)\n",
    "    soup = bs4.BeautifulSoup(req.text,'lxml')\n",
    "    products = soup.select('.product_pod')\n",
    "    \n",
    "    for b in range(0,20):\n",
    "        text = str(products[b])\n",
    "        if 'star-rating Two' in text:\n",
    "            star2_nr += 1\n",
    "            title = products[b].select('a')[1].get(\"title\")\n",
    "            star2_names.append(title)\n",
    "print(star2_nr)\n",
    "print(star2_names)"
   ]
  }
 ],
 "metadata": {
  "kernelspec": {
   "display_name": "Python 3",
   "language": "python",
   "name": "python3"
  },
  "language_info": {
   "codemirror_mode": {
    "name": "ipython",
    "version": 3
   },
   "file_extension": ".py",
   "mimetype": "text/x-python",
   "name": "python",
   "nbconvert_exporter": "python",
   "pygments_lexer": "ipython3",
   "version": "3.8.3"
  }
 },
 "nbformat": 4,
 "nbformat_minor": 4
}
